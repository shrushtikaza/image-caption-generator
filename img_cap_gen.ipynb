{
  "nbformat": 4,
  "nbformat_minor": 0,
  "metadata": {
    "colab": {
      "provenance": [],
      "authorship_tag": "ABX9TyOoDoz8/0MQ0MAh3mO3HsEd",
      "include_colab_link": true
    },
    "kernelspec": {
      "name": "python3",
      "display_name": "Python 3"
    },
    "language_info": {
      "name": "python"
    }
  },
  "cells": [
    {
      "cell_type": "markdown",
      "metadata": {
        "id": "view-in-github",
        "colab_type": "text"
      },
      "source": [
        "<a href=\"https://colab.research.google.com/github/shrushtikaza/image-caption-generator/blob/main/img_cap_gen.ipynb\" target=\"_parent\"><img src=\"https://colab.research.google.com/assets/colab-badge.svg\" alt=\"Open In Colab\"/></a>"
      ]
    },
    {
      "cell_type": "code",
      "source": [
        "!mkdir -p flickr8k_dataset\n",
        "\n",
        "!wget -q https://github.com/jbrownlee/Datasets/releases/download/Flickr8k/Flickr8k_Dataset.zip -O flickr8k_images.zip\n",
        "!wget -q https://github.com/jbrownlee/Datasets/releases/download/Flickr8k/Flickr8k_text.zip -O flickr8k_text.zip\n",
        "\n",
        "!unzip -q flickr8k_images.zip -d flickr8k_dataset\n",
        "!unzip -q flickr8k_text.zip -d flickr8k_dataset\n",
        "\n",
        "!ls -la flickr8k_dataset"
      ],
      "metadata": {
        "colab": {
          "base_uri": "https://localhost:8080/"
        },
        "id": "9QXKh5QcKVRo",
        "outputId": "321dc91d-d042-4f07-910d-9240c383f233"
      },
      "execution_count": null,
      "outputs": [
        {
          "output_type": "stream",
          "name": "stdout",
          "text": [
            "replace flickr8k_dataset/Flicker8k_Dataset/1000268201_693b08cb0e.jpg? [y]es, [n]o, [A]ll, [N]one, [r]ename: A\n",
            "replace flickr8k_dataset/CrowdFlowerAnnotations.txt? [y]es, [n]o, [A]ll, [N]one, [r]ename: A\n",
            "total 10344\n",
            "drwxr-xr-x 4 root root    4096 Apr 26 17:54 .\n",
            "drwxr-xr-x 1 root root    4096 Apr 26 17:50 ..\n",
            "-rw-r--r-- 1 root root 2918552 Oct 14  2013 CrowdFlowerAnnotations.txt\n",
            "-rw-r--r-- 1 root root  346674 Oct 14  2013 ExpertAnnotations.txt\n",
            "drwxr-xr-x 2 root root  446464 Apr 26 17:54 Flicker8k_Dataset\n",
            "-rw-r--r-- 1 root root   25801 Oct 10  2013 Flickr_8k.devImages.txt\n",
            "-rw-r--r-- 1 root root 3244761 Feb 16  2012 Flickr8k.lemma.token.txt\n",
            "-rw-r--r-- 1 root root   25775 Oct 10  2013 Flickr_8k.testImages.txt\n",
            "-rw-r--r-- 1 root root 3395237 Oct 14  2013 Flickr8k.token.txt\n",
            "-rw-r--r-- 1 root root  154678 Oct 10  2013 Flickr_8k.trainImages.txt\n",
            "drwxrwxr-x 3 root root    4096 Apr 26 17:54 __MACOSX\n",
            "-rw-r--r-- 1 root root    1821 Oct 14  2013 readme.txt\n"
          ]
        }
      ]
    },
    {
      "cell_type": "code",
      "source": [
        "import os\n",
        "\n",
        "img_files = os.listdir('flickr8k_dataset/Flicker8k_Dataset')"
      ],
      "metadata": {
        "id": "h6c7VQ3SLUce"
      },
      "execution_count": null,
      "outputs": []
    },
    {
      "cell_type": "code",
      "source": [
        "caption_file_path = 'flickr8k_dataset/Flickr8k.token.txt'\n",
        "\n",
        "with open(caption_file_path, 'r') as f:\n",
        "    caption_data = f.readlines()[:5]\n",
        "\n",
        "print(\"Sample captions:\")\n",
        "for line in caption_data:\n",
        "    print(line.strip())"
      ],
      "metadata": {
        "id": "74zu7bOhMyQl",
        "colab": {
          "base_uri": "https://localhost:8080/"
        },
        "outputId": "cbf80ed0-0c99-4bee-bdfc-68e3af1a92c3"
      },
      "execution_count": null,
      "outputs": [
        {
          "output_type": "stream",
          "name": "stdout",
          "text": [
            "Sample captions:\n",
            "1000268201_693b08cb0e.jpg#0\tA child in a pink dress is climbing up a set of stairs in an entry way .\n",
            "1000268201_693b08cb0e.jpg#1\tA girl going into a wooden building .\n",
            "1000268201_693b08cb0e.jpg#2\tA little girl climbing into a wooden playhouse .\n",
            "1000268201_693b08cb0e.jpg#3\tA little girl climbing the stairs to her playhouse .\n",
            "1000268201_693b08cb0e.jpg#4\tA little girl in a pink dress going into a wooden cabin .\n",
            "\n",
            "Total images found: 8091\n"
          ]
        }
      ]
    },
    {
      "cell_type": "code",
      "source": [],
      "metadata": {
        "id": "1k1o5S5AQ1n9"
      },
      "execution_count": null,
      "outputs": []
    }
  ]
}